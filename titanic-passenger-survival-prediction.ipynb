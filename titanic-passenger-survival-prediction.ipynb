{
 "cells": [
  {
   "cell_type": "code",
   "execution_count": 1,
   "id": "b44aba2e",
   "metadata": {
    "_cell_guid": "b1076dfc-b9ad-4769-8c92-a6c4dae69d19",
    "_uuid": "8f2839f25d086af736a60e9eeb907d3b93b6e0e5",
    "execution": {
     "iopub.execute_input": "2023-08-19T20:23:50.896307Z",
     "iopub.status.busy": "2023-08-19T20:23:50.895778Z",
     "iopub.status.idle": "2023-08-19T20:23:50.917206Z",
     "shell.execute_reply": "2023-08-19T20:23:50.916381Z"
    },
    "papermill": {
     "duration": 0.031599,
     "end_time": "2023-08-19T20:23:50.919568",
     "exception": false,
     "start_time": "2023-08-19T20:23:50.887969",
     "status": "completed"
    },
    "tags": []
   },
   "outputs": [
    {
     "name": "stdout",
     "output_type": "stream",
     "text": [
      "/kaggle/input/test-file/tested.csv\n"
     ]
    }
   ],
   "source": [
    "# This Python 3 environment comes with many helpful analytics libraries installed\n",
    "# It is defined by the kaggle/python Docker image: https://github.com/kaggle/docker-python\n",
    "# For example, here's several helpful packages to load\n",
    "\n",
    "import numpy as np # linear algebra\n",
    "import pandas as pd # data processing, CSV file I/O (e.g. pd.read_csv)\n",
    "\n",
    "# Input data files are available in the read-only \"../input/\" directory\n",
    "# For example, running this (by clicking run or pressing Shift+Enter) will list all files under the input directory\n",
    "\n",
    "import os\n",
    "for dirname, _, filenames in os.walk('/kaggle/input'):\n",
    "    for filename in filenames:\n",
    "        print(os.path.join(dirname, filename))\n",
    "\n",
    "# You can write up to 20GB to the current directory (/kaggle/working/) that gets preserved as output when you create a version using \"Save & Run All\" \n",
    "# You can also write temporary files to /kaggle/temp/, but they won't be saved outside of the current session"
   ]
  },
  {
   "cell_type": "markdown",
   "id": "0c1c6606",
   "metadata": {
    "papermill": {
     "duration": 0.005509,
     "end_time": "2023-08-19T20:23:50.930751",
     "exception": false,
     "start_time": "2023-08-19T20:23:50.925242",
     "status": "completed"
    },
    "tags": []
   },
   "source": [
    "# Reading Data"
   ]
  },
  {
   "cell_type": "code",
   "execution_count": 2,
   "id": "ea72aba8",
   "metadata": {
    "execution": {
     "iopub.execute_input": "2023-08-19T20:23:50.944588Z",
     "iopub.status.busy": "2023-08-19T20:23:50.943252Z",
     "iopub.status.idle": "2023-08-19T20:23:50.991499Z",
     "shell.execute_reply": "2023-08-19T20:23:50.990352Z"
    },
    "papermill": {
     "duration": 0.057937,
     "end_time": "2023-08-19T20:23:50.994285",
     "exception": false,
     "start_time": "2023-08-19T20:23:50.936348",
     "status": "completed"
    },
    "tags": []
   },
   "outputs": [
    {
     "data": {
      "text/html": [
       "<div>\n",
       "<style scoped>\n",
       "    .dataframe tbody tr th:only-of-type {\n",
       "        vertical-align: middle;\n",
       "    }\n",
       "\n",
       "    .dataframe tbody tr th {\n",
       "        vertical-align: top;\n",
       "    }\n",
       "\n",
       "    .dataframe thead th {\n",
       "        text-align: right;\n",
       "    }\n",
       "</style>\n",
       "<table border=\"1\" class=\"dataframe\">\n",
       "  <thead>\n",
       "    <tr style=\"text-align: right;\">\n",
       "      <th></th>\n",
       "      <th>PassengerId</th>\n",
       "      <th>Survived</th>\n",
       "      <th>Pclass</th>\n",
       "      <th>Name</th>\n",
       "      <th>Sex</th>\n",
       "      <th>Age</th>\n",
       "      <th>SibSp</th>\n",
       "      <th>Parch</th>\n",
       "      <th>Ticket</th>\n",
       "      <th>Fare</th>\n",
       "      <th>Cabin</th>\n",
       "      <th>Embarked</th>\n",
       "    </tr>\n",
       "  </thead>\n",
       "  <tbody>\n",
       "    <tr>\n",
       "      <th>0</th>\n",
       "      <td>892</td>\n",
       "      <td>0</td>\n",
       "      <td>3</td>\n",
       "      <td>Kelly, Mr. James</td>\n",
       "      <td>male</td>\n",
       "      <td>34.5</td>\n",
       "      <td>0</td>\n",
       "      <td>0</td>\n",
       "      <td>330911</td>\n",
       "      <td>7.8292</td>\n",
       "      <td>NaN</td>\n",
       "      <td>Q</td>\n",
       "    </tr>\n",
       "    <tr>\n",
       "      <th>1</th>\n",
       "      <td>893</td>\n",
       "      <td>1</td>\n",
       "      <td>3</td>\n",
       "      <td>Wilkes, Mrs. James (Ellen Needs)</td>\n",
       "      <td>female</td>\n",
       "      <td>47.0</td>\n",
       "      <td>1</td>\n",
       "      <td>0</td>\n",
       "      <td>363272</td>\n",
       "      <td>7.0000</td>\n",
       "      <td>NaN</td>\n",
       "      <td>S</td>\n",
       "    </tr>\n",
       "    <tr>\n",
       "      <th>2</th>\n",
       "      <td>894</td>\n",
       "      <td>0</td>\n",
       "      <td>2</td>\n",
       "      <td>Myles, Mr. Thomas Francis</td>\n",
       "      <td>male</td>\n",
       "      <td>62.0</td>\n",
       "      <td>0</td>\n",
       "      <td>0</td>\n",
       "      <td>240276</td>\n",
       "      <td>9.6875</td>\n",
       "      <td>NaN</td>\n",
       "      <td>Q</td>\n",
       "    </tr>\n",
       "    <tr>\n",
       "      <th>3</th>\n",
       "      <td>895</td>\n",
       "      <td>0</td>\n",
       "      <td>3</td>\n",
       "      <td>Wirz, Mr. Albert</td>\n",
       "      <td>male</td>\n",
       "      <td>27.0</td>\n",
       "      <td>0</td>\n",
       "      <td>0</td>\n",
       "      <td>315154</td>\n",
       "      <td>8.6625</td>\n",
       "      <td>NaN</td>\n",
       "      <td>S</td>\n",
       "    </tr>\n",
       "    <tr>\n",
       "      <th>4</th>\n",
       "      <td>896</td>\n",
       "      <td>1</td>\n",
       "      <td>3</td>\n",
       "      <td>Hirvonen, Mrs. Alexander (Helga E Lindqvist)</td>\n",
       "      <td>female</td>\n",
       "      <td>22.0</td>\n",
       "      <td>1</td>\n",
       "      <td>1</td>\n",
       "      <td>3101298</td>\n",
       "      <td>12.2875</td>\n",
       "      <td>NaN</td>\n",
       "      <td>S</td>\n",
       "    </tr>\n",
       "  </tbody>\n",
       "</table>\n",
       "</div>"
      ],
      "text/plain": [
       "   PassengerId  Survived  Pclass  \\\n",
       "0          892         0       3   \n",
       "1          893         1       3   \n",
       "2          894         0       2   \n",
       "3          895         0       3   \n",
       "4          896         1       3   \n",
       "\n",
       "                                           Name     Sex   Age  SibSp  Parch  \\\n",
       "0                              Kelly, Mr. James    male  34.5      0      0   \n",
       "1              Wilkes, Mrs. James (Ellen Needs)  female  47.0      1      0   \n",
       "2                     Myles, Mr. Thomas Francis    male  62.0      0      0   \n",
       "3                              Wirz, Mr. Albert    male  27.0      0      0   \n",
       "4  Hirvonen, Mrs. Alexander (Helga E Lindqvist)  female  22.0      1      1   \n",
       "\n",
       "    Ticket     Fare Cabin Embarked  \n",
       "0   330911   7.8292   NaN        Q  \n",
       "1   363272   7.0000   NaN        S  \n",
       "2   240276   9.6875   NaN        Q  \n",
       "3   315154   8.6625   NaN        S  \n",
       "4  3101298  12.2875   NaN        S  "
      ]
     },
     "execution_count": 2,
     "metadata": {},
     "output_type": "execute_result"
    }
   ],
   "source": [
    "data =  pd.read_csv(\"/kaggle/input/test-file/tested.csv\")\n",
    "data.head()"
   ]
  },
  {
   "cell_type": "markdown",
   "id": "3b59a3fd",
   "metadata": {
    "papermill": {
     "duration": 0.006928,
     "end_time": "2023-08-19T20:23:51.007217",
     "exception": false,
     "start_time": "2023-08-19T20:23:51.000289",
     "status": "completed"
    },
    "tags": []
   },
   "source": [
    "# Data cleaning"
   ]
  },
  {
   "cell_type": "code",
   "execution_count": 3,
   "id": "8fe4f82c",
   "metadata": {
    "execution": {
     "iopub.execute_input": "2023-08-19T20:23:51.022291Z",
     "iopub.status.busy": "2023-08-19T20:23:51.021570Z",
     "iopub.status.idle": "2023-08-19T20:23:51.034223Z",
     "shell.execute_reply": "2023-08-19T20:23:51.032795Z"
    },
    "papermill": {
     "duration": 0.022444,
     "end_time": "2023-08-19T20:23:51.036619",
     "exception": false,
     "start_time": "2023-08-19T20:23:51.014175",
     "status": "completed"
    },
    "tags": []
   },
   "outputs": [
    {
     "name": "stdout",
     "output_type": "stream",
     "text": [
      "PassengerId      0\n",
      "Survived         0\n",
      "Pclass           0\n",
      "Name             0\n",
      "Sex              0\n",
      "Age             86\n",
      "SibSp            0\n",
      "Parch            0\n",
      "Ticket           0\n",
      "Fare             1\n",
      "Cabin          327\n",
      "Embarked         0\n",
      "dtype: int64\n",
      "PassengerId      int64\n",
      "Survived         int64\n",
      "Pclass           int64\n",
      "Name            object\n",
      "Sex             object\n",
      "Age            float64\n",
      "SibSp            int64\n",
      "Parch            int64\n",
      "Ticket          object\n",
      "Fare           float64\n",
      "Cabin           object\n",
      "Embarked        object\n",
      "dtype: object\n"
     ]
    }
   ],
   "source": [
    "print(data.isnull().sum())\n",
    "print(data.dtypes)"
   ]
  },
  {
   "cell_type": "code",
   "execution_count": 4,
   "id": "58042125",
   "metadata": {
    "execution": {
     "iopub.execute_input": "2023-08-19T20:23:51.051160Z",
     "iopub.status.busy": "2023-08-19T20:23:51.049958Z",
     "iopub.status.idle": "2023-08-19T20:23:51.073307Z",
     "shell.execute_reply": "2023-08-19T20:23:51.072062Z"
    },
    "papermill": {
     "duration": 0.033128,
     "end_time": "2023-08-19T20:23:51.075776",
     "exception": false,
     "start_time": "2023-08-19T20:23:51.042648",
     "status": "completed"
    },
    "tags": []
   },
   "outputs": [
    {
     "name": "stdout",
     "output_type": "stream",
     "text": [
      "21.0\n",
      "35.627188489208635\n",
      "Survived    0\n",
      "Pclass      0\n",
      "Sex         0\n",
      "Age         0\n",
      "SibSp       0\n",
      "Parch       0\n",
      "Fare        0\n",
      "Embarked    0\n",
      "dtype: int64\n",
      "Survived     int64\n",
      "Pclass       int64\n",
      "Sex         object\n",
      "Age          int64\n",
      "SibSp        int64\n",
      "Parch        int64\n",
      "Fare         int64\n",
      "Embarked    object\n",
      "dtype: object\n"
     ]
    }
   ],
   "source": [
    "age_mode = data[\"Age\"].mode()[0]\n",
    "fare_mean = data[\"Fare\"].mean()\n",
    "print(age_mode)\n",
    "print(fare_mean)\n",
    "cleaned = data\n",
    "cleaned[\"Age\"] = data[\"Age\"].fillna(age_mode)\n",
    "cleaned[\"Age\"] = cleaned[\"Age\"].astype(int)\n",
    "cleaned[\"Fare\"] = data[\"Fare\"].fillna(fare_mean)\n",
    "cleaned[\"Fare\"] = cleaned[\"Fare\"].astype(int)\n",
    "cleaned = cleaned.drop(['PassengerId','Name','Cabin','Ticket'], axis =1)\n",
    "print(cleaned.isnull().sum())\n",
    "print(cleaned.dtypes)"
   ]
  },
  {
   "cell_type": "code",
   "execution_count": 5,
   "id": "692387fa",
   "metadata": {
    "execution": {
     "iopub.execute_input": "2023-08-19T20:23:51.089955Z",
     "iopub.status.busy": "2023-08-19T20:23:51.089218Z",
     "iopub.status.idle": "2023-08-19T20:23:52.345283Z",
     "shell.execute_reply": "2023-08-19T20:23:52.344364Z"
    },
    "papermill": {
     "duration": 1.265715,
     "end_time": "2023-08-19T20:23:52.347468",
     "exception": false,
     "start_time": "2023-08-19T20:23:51.081753",
     "status": "completed"
    },
    "tags": []
   },
   "outputs": [
    {
     "name": "stderr",
     "output_type": "stream",
     "text": [
      "/opt/conda/lib/python3.10/site-packages/scipy/__init__.py:146: UserWarning: A NumPy version >=1.16.5 and <1.23.0 is required for this version of SciPy (detected version 1.23.5\n",
      "  warnings.warn(f\"A NumPy version >={np_minversion} and <{np_maxversion}\"\n"
     ]
    },
    {
     "data": {
      "text/html": [
       "<div>\n",
       "<style scoped>\n",
       "    .dataframe tbody tr th:only-of-type {\n",
       "        vertical-align: middle;\n",
       "    }\n",
       "\n",
       "    .dataframe tbody tr th {\n",
       "        vertical-align: top;\n",
       "    }\n",
       "\n",
       "    .dataframe thead th {\n",
       "        text-align: right;\n",
       "    }\n",
       "</style>\n",
       "<table border=\"1\" class=\"dataframe\">\n",
       "  <thead>\n",
       "    <tr style=\"text-align: right;\">\n",
       "      <th></th>\n",
       "      <th>Survived</th>\n",
       "      <th>Pclass</th>\n",
       "      <th>Sex</th>\n",
       "      <th>Age</th>\n",
       "      <th>SibSp</th>\n",
       "      <th>Parch</th>\n",
       "      <th>Fare</th>\n",
       "      <th>Embarked</th>\n",
       "    </tr>\n",
       "  </thead>\n",
       "  <tbody>\n",
       "    <tr>\n",
       "      <th>0</th>\n",
       "      <td>0</td>\n",
       "      <td>3</td>\n",
       "      <td>1</td>\n",
       "      <td>34</td>\n",
       "      <td>0</td>\n",
       "      <td>0</td>\n",
       "      <td>7</td>\n",
       "      <td>1</td>\n",
       "    </tr>\n",
       "    <tr>\n",
       "      <th>1</th>\n",
       "      <td>1</td>\n",
       "      <td>3</td>\n",
       "      <td>0</td>\n",
       "      <td>47</td>\n",
       "      <td>1</td>\n",
       "      <td>0</td>\n",
       "      <td>7</td>\n",
       "      <td>2</td>\n",
       "    </tr>\n",
       "    <tr>\n",
       "      <th>2</th>\n",
       "      <td>0</td>\n",
       "      <td>2</td>\n",
       "      <td>1</td>\n",
       "      <td>62</td>\n",
       "      <td>0</td>\n",
       "      <td>0</td>\n",
       "      <td>9</td>\n",
       "      <td>1</td>\n",
       "    </tr>\n",
       "    <tr>\n",
       "      <th>3</th>\n",
       "      <td>0</td>\n",
       "      <td>3</td>\n",
       "      <td>1</td>\n",
       "      <td>27</td>\n",
       "      <td>0</td>\n",
       "      <td>0</td>\n",
       "      <td>8</td>\n",
       "      <td>2</td>\n",
       "    </tr>\n",
       "    <tr>\n",
       "      <th>4</th>\n",
       "      <td>1</td>\n",
       "      <td>3</td>\n",
       "      <td>0</td>\n",
       "      <td>22</td>\n",
       "      <td>1</td>\n",
       "      <td>1</td>\n",
       "      <td>12</td>\n",
       "      <td>2</td>\n",
       "    </tr>\n",
       "  </tbody>\n",
       "</table>\n",
       "</div>"
      ],
      "text/plain": [
       "   Survived  Pclass  Sex  Age  SibSp  Parch  Fare  Embarked\n",
       "0         0       3    1   34      0      0     7         1\n",
       "1         1       3    0   47      1      0     7         2\n",
       "2         0       2    1   62      0      0     9         1\n",
       "3         0       3    1   27      0      0     8         2\n",
       "4         1       3    0   22      1      1    12         2"
      ]
     },
     "execution_count": 5,
     "metadata": {},
     "output_type": "execute_result"
    }
   ],
   "source": [
    "from sklearn.preprocessing import LabelEncoder\n",
    "labelencoder = LabelEncoder()\n",
    "def encode(data):\n",
    "    cl = labelencoder.fit_transform(data)\n",
    "    return cl\n",
    "cleaned[\"Embarked\"] = encode(cleaned[\"Embarked\"])\n",
    "cleaned[\"Sex\"] = encode(cleaned[\"Sex\"])\n",
    "cleaned.head()"
   ]
  },
  {
   "cell_type": "code",
   "execution_count": 6,
   "id": "2cb1c2e2",
   "metadata": {
    "execution": {
     "iopub.execute_input": "2023-08-19T20:23:52.363091Z",
     "iopub.status.busy": "2023-08-19T20:23:52.362412Z",
     "iopub.status.idle": "2023-08-19T20:23:52.372147Z",
     "shell.execute_reply": "2023-08-19T20:23:52.370969Z"
    },
    "papermill": {
     "duration": 0.019957,
     "end_time": "2023-08-19T20:23:52.374388",
     "exception": false,
     "start_time": "2023-08-19T20:23:52.354431",
     "status": "completed"
    },
    "tags": []
   },
   "outputs": [
    {
     "name": "stdout",
     "output_type": "stream",
     "text": [
      "1    266\n",
      "0    152\n",
      "Name: Sex, dtype: int64\n",
      "2    270\n",
      "0    102\n",
      "1     46\n",
      "Name: Embarked, dtype: int64\n"
     ]
    }
   ],
   "source": [
    "print(cleaned[\"Sex\"].value_counts())\n",
    "print(cleaned[\"Embarked\"].value_counts())"
   ]
  },
  {
   "cell_type": "markdown",
   "id": "0c63bac9",
   "metadata": {
    "papermill": {
     "duration": 0.00615,
     "end_time": "2023-08-19T20:23:52.387115",
     "exception": false,
     "start_time": "2023-08-19T20:23:52.380965",
     "status": "completed"
    },
    "tags": []
   },
   "source": [
    "# Split data into 80% train and 20% test"
   ]
  },
  {
   "cell_type": "code",
   "execution_count": 7,
   "id": "9f894c27",
   "metadata": {
    "execution": {
     "iopub.execute_input": "2023-08-19T20:23:52.402024Z",
     "iopub.status.busy": "2023-08-19T20:23:52.401338Z",
     "iopub.status.idle": "2023-08-19T20:23:52.528179Z",
     "shell.execute_reply": "2023-08-19T20:23:52.526860Z"
    },
    "papermill": {
     "duration": 0.137628,
     "end_time": "2023-08-19T20:23:52.531114",
     "exception": false,
     "start_time": "2023-08-19T20:23:52.393486",
     "status": "completed"
    },
    "tags": []
   },
   "outputs": [],
   "source": [
    "from sklearn.model_selection import train_test_split\n",
    "X = cleaned.drop([\"Survived\"] , axis = 1)\n",
    "Y = cleaned[\"Survived\"]\n",
    "x_train , x_test , y_train , y_test = train_test_split(X , Y , test_size = 0.2 , random_state = 42)"
   ]
  },
  {
   "cell_type": "code",
   "execution_count": 8,
   "id": "ccf1a7d0",
   "metadata": {
    "execution": {
     "iopub.execute_input": "2023-08-19T20:23:52.546487Z",
     "iopub.status.busy": "2023-08-19T20:23:52.545817Z",
     "iopub.status.idle": "2023-08-19T20:23:52.557696Z",
     "shell.execute_reply": "2023-08-19T20:23:52.556472Z"
    },
    "papermill": {
     "duration": 0.022866,
     "end_time": "2023-08-19T20:23:52.560598",
     "exception": false,
     "start_time": "2023-08-19T20:23:52.537732",
     "status": "completed"
    },
    "tags": []
   },
   "outputs": [],
   "source": [
    "from sklearn.preprocessing import StandardScaler, MinMaxScaler\n",
    "sc = StandardScaler()\n",
    "msc = MinMaxScaler()\n",
    "x_train = msc.fit_transform(x_train)\n",
    "x_test = msc.fit_transform(x_test)"
   ]
  },
  {
   "cell_type": "markdown",
   "id": "07b80c8b",
   "metadata": {
    "papermill": {
     "duration": 0.006233,
     "end_time": "2023-08-19T20:23:52.574601",
     "exception": false,
     "start_time": "2023-08-19T20:23:52.568368",
     "status": "completed"
    },
    "tags": []
   },
   "source": [
    "# Extreme Gradient Boosting"
   ]
  },
  {
   "cell_type": "code",
   "execution_count": 9,
   "id": "b0b99b15",
   "metadata": {
    "execution": {
     "iopub.execute_input": "2023-08-19T20:23:52.589851Z",
     "iopub.status.busy": "2023-08-19T20:23:52.588781Z",
     "iopub.status.idle": "2023-08-19T20:23:52.850672Z",
     "shell.execute_reply": "2023-08-19T20:23:52.849666Z"
    },
    "papermill": {
     "duration": 0.272611,
     "end_time": "2023-08-19T20:23:52.853683",
     "exception": false,
     "start_time": "2023-08-19T20:23:52.581072",
     "status": "completed"
    },
    "tags": []
   },
   "outputs": [],
   "source": [
    "from xgboost import XGBClassifier\n",
    "gb = XGBClassifier()\n",
    "gb.fit(x_train , y_train)\n",
    "yhat = gb.predict(x_test)"
   ]
  },
  {
   "cell_type": "code",
   "execution_count": 10,
   "id": "832e4554",
   "metadata": {
    "execution": {
     "iopub.execute_input": "2023-08-19T20:23:52.870529Z",
     "iopub.status.busy": "2023-08-19T20:23:52.870141Z",
     "iopub.status.idle": "2023-08-19T20:23:52.887531Z",
     "shell.execute_reply": "2023-08-19T20:23:52.885960Z"
    },
    "papermill": {
     "duration": 0.028355,
     "end_time": "2023-08-19T20:23:52.889976",
     "exception": false,
     "start_time": "2023-08-19T20:23:52.861621",
     "status": "completed"
    },
    "tags": []
   },
   "outputs": [
    {
     "name": "stdout",
     "output_type": "stream",
     "text": [
      "Accuracy score:  1.0\n",
      "Recall score:  1.0\n",
      "Precision score:  1.0\n",
      "F1 score:  1.0\n"
     ]
    }
   ],
   "source": [
    "from sklearn.metrics import accuracy_score, recall_score, precision_score, f1_score\n",
    "from sklearn.metrics import accuracy_score,confusion_matrix\n",
    "\n",
    "print(\"Accuracy score: \" , accuracy_score(y_test,yhat))\n",
    "print(\"Recall score: \" ,recall_score(y_test,yhat, average='micro'))\n",
    "print(\"Precision score: \" ,precision_score(y_test,yhat , average='micro'))\n",
    "print(\"F1 score: \" ,f1_score(y_test,yhat , average='micro'))"
   ]
  },
  {
   "cell_type": "code",
   "execution_count": 11,
   "id": "1f9483a0",
   "metadata": {
    "execution": {
     "iopub.execute_input": "2023-08-19T20:23:52.905905Z",
     "iopub.status.busy": "2023-08-19T20:23:52.904769Z",
     "iopub.status.idle": "2023-08-19T20:23:53.449565Z",
     "shell.execute_reply": "2023-08-19T20:23:53.448029Z"
    },
    "papermill": {
     "duration": 0.554941,
     "end_time": "2023-08-19T20:23:53.451649",
     "exception": true,
     "start_time": "2023-08-19T20:23:52.896708",
     "status": "failed"
    },
    "tags": []
   },
   "outputs": [
    {
     "ename": "StdinNotImplementedError",
     "evalue": "raw_input was called, but this frontend does not support input requests.",
     "output_type": "error",
     "traceback": [
      "\u001b[0;31m---------------------------------------------------------------------------\u001b[0m",
      "\u001b[0;31mStdinNotImplementedError\u001b[0m                  Traceback (most recent call last)",
      "Cell \u001b[0;32mIn[11], line 10\u001b[0m\n\u001b[1;32m      8\u001b[0m         \u001b[38;5;28;01mreturn\u001b[39;00m \u001b[38;5;124m\"\u001b[39m\u001b[38;5;124mNot Survived\u001b[39m\u001b[38;5;124m\"\u001b[39m\n\u001b[1;32m      9\u001b[0m di \u001b[38;5;241m=\u001b[39m {}\n\u001b[0;32m---> 10\u001b[0m x \u001b[38;5;241m=\u001b[39m \u001b[38;5;28mint\u001b[39m(\u001b[38;5;28;43minput\u001b[39;49m\u001b[43m(\u001b[49m\u001b[38;5;124;43m\"\u001b[39;49m\u001b[38;5;124;43menter Pclass\u001b[39;49m\u001b[38;5;124;43m\"\u001b[39;49m\u001b[43m)\u001b[49m)\n\u001b[1;32m     11\u001b[0m di[\u001b[38;5;124m\"\u001b[39m\u001b[38;5;124mPclass\u001b[39m\u001b[38;5;124m\"\u001b[39m] \u001b[38;5;241m=\u001b[39m x\n\u001b[1;32m     12\u001b[0m s \u001b[38;5;241m=\u001b[39m \u001b[38;5;28minput\u001b[39m(\u001b[38;5;124m\"\u001b[39m\u001b[38;5;124menter gender\u001b[39m\u001b[38;5;124m\"\u001b[39m)\n",
      "File \u001b[0;32m/opt/conda/lib/python3.10/site-packages/ipykernel/kernelbase.py:1190\u001b[0m, in \u001b[0;36mKernel.raw_input\u001b[0;34m(self, prompt)\u001b[0m\n\u001b[1;32m   1188\u001b[0m \u001b[38;5;28;01mif\u001b[39;00m \u001b[38;5;129;01mnot\u001b[39;00m \u001b[38;5;28mself\u001b[39m\u001b[38;5;241m.\u001b[39m_allow_stdin:\n\u001b[1;32m   1189\u001b[0m     msg \u001b[38;5;241m=\u001b[39m \u001b[38;5;124m\"\u001b[39m\u001b[38;5;124mraw_input was called, but this frontend does not support input requests.\u001b[39m\u001b[38;5;124m\"\u001b[39m\n\u001b[0;32m-> 1190\u001b[0m     \u001b[38;5;28;01mraise\u001b[39;00m StdinNotImplementedError(msg)\n\u001b[1;32m   1191\u001b[0m \u001b[38;5;28;01mreturn\u001b[39;00m \u001b[38;5;28mself\u001b[39m\u001b[38;5;241m.\u001b[39m_input_request(\n\u001b[1;32m   1192\u001b[0m     \u001b[38;5;28mstr\u001b[39m(prompt),\n\u001b[1;32m   1193\u001b[0m     \u001b[38;5;28mself\u001b[39m\u001b[38;5;241m.\u001b[39m_parent_ident[\u001b[38;5;124m\"\u001b[39m\u001b[38;5;124mshell\u001b[39m\u001b[38;5;124m\"\u001b[39m],\n\u001b[1;32m   1194\u001b[0m     \u001b[38;5;28mself\u001b[39m\u001b[38;5;241m.\u001b[39mget_parent(\u001b[38;5;124m\"\u001b[39m\u001b[38;5;124mshell\u001b[39m\u001b[38;5;124m\"\u001b[39m),\n\u001b[1;32m   1195\u001b[0m     password\u001b[38;5;241m=\u001b[39m\u001b[38;5;28;01mFalse\u001b[39;00m,\n\u001b[1;32m   1196\u001b[0m )\n",
      "\u001b[0;31mStdinNotImplementedError\u001b[0m: raw_input was called, but this frontend does not support input requests."
     ]
    }
   ],
   "source": [
    "def pred(data , model):\n",
    "    data[\"Sex\"] = labelencoder.transform(data[\"Sex\"])\n",
    "    #data[\"Embarked\"] = labelencoder.transform(data[\"Embarked\"])\n",
    "    out = model.predict(data)\n",
    "    if out == 1: \n",
    "        return \"Survived\"\n",
    "    else:\n",
    "        return \"Not Survived\"\n",
    "di = {}\n",
    "x = int(input(\"enter Pclass\"))\n",
    "di[\"Pclass\"] = x\n",
    "s = input(\"enter gender\")\n",
    "di[\"Sex\"] = s\n",
    "x = int(input(\"enter Age\"))\n",
    "di[\"Age\"] = x\n",
    "x = int(input(\"enter SibSp\" ))\n",
    "di[\"SibSp\"] = x\n",
    "x = int(input(\"Parch\"))\n",
    "di[\"Parch\"] = x\n",
    "x = int(input(\"Fare\"))\n",
    "di[\"Fare\"] = x\n",
    "s = int(input(\"Embarked\"))\n",
    "di[\"Embarked\"] = s\n",
    "df = pd.DataFrame(di , index= [0])\n",
    "\n",
    "\n",
    "print(f\"prediction: {pred(df , gb)}\" ) \n",
    "    "
   ]
  }
 ],
 "metadata": {
  "kernelspec": {
   "display_name": "Python 3",
   "language": "python",
   "name": "python3"
  },
  "language_info": {
   "codemirror_mode": {
    "name": "ipython",
    "version": 3
   },
   "file_extension": ".py",
   "mimetype": "text/x-python",
   "name": "python",
   "nbconvert_exporter": "python",
   "pygments_lexer": "ipython3",
   "version": "3.10.12"
  },
  "papermill": {
   "default_parameters": {},
   "duration": 15.067442,
   "end_time": "2023-08-19T20:23:54.483170",
   "environment_variables": {},
   "exception": true,
   "input_path": "__notebook__.ipynb",
   "output_path": "__notebook__.ipynb",
   "parameters": {},
   "start_time": "2023-08-19T20:23:39.415728",
   "version": "2.4.0"
  }
 },
 "nbformat": 4,
 "nbformat_minor": 5
}
